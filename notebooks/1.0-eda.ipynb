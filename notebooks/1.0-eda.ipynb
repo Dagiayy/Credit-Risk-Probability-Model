{
 "cells": [
  {
   "cell_type": "code",
   "execution_count": null,
   "id": "43338178",
   "metadata": {},
   "outputs": [
    {
     "ename": "",
     "evalue": "",
     "output_type": "error",
     "traceback": [
      "\u001b[1;31mFailed to start the Kernel. \n",
      "\u001b[1;31mUnable to start Kernel 'Python 3.12.0' due to a timeout waiting for the ports to get used. \n",
      "\u001b[1;31mView Jupyter <a href='command:jupyter.viewOutput'>log</a> for further details."
     ]
    }
   ],
   "source": [
    "# 1. Imports\n",
    "import sys\n",
    "sys.path.append(\"../src\")\n",
    "from data_processing import *\n",
    "\n",
    "import pandas as pd\n",
    "\n",
    "# ✅ Toggle: fast mode skips plotting to save time on large datasets\n",
    "FAST_MODE = True  # Set False to run full visualizations\n",
    "\n",
    "# Define load_data function directly in notebook\n",
    "def load_data(path=\"../data/raw/data.csv\"):\n",
    "    return pd.read_csv(path)\n",
    "\n",
    "# -----------------------------------------------\n",
    "# 🚀 Main Notebook Workflow\n",
    "\n",
    "# Load Data\n",
    "df = load_data()\n",
    "\n",
    "# Overview\n",
    "overview(df)\n",
    "\n",
    "# Summary Stats\n",
    "summary_stats = summary_statistics(df)\n",
    "print(summary_stats)\n",
    "\n",
    "# Visualizations\n",
    "if not FAST_MODE:\n",
    "    print(\"📊 Plotting distributions...\")\n",
    "    plot_numerical_distributions(df)\n",
    "    plot_categorical_distributions(df)\n",
    "\n",
    "# Correlation\n",
    "print(\"🔗 Correlation Matrix\")\n",
    "correlation_matrix(df)\n",
    "\n",
    "# Missing values\n",
    "missing = missing_values(df)\n",
    "print(\"Missing Values:\\n\", missing[missing > 0])\n",
    "\n",
    "# Outliers\n",
    "outliers = detect_outliers(df)\n",
    "print(\"Outliers:\\n\", outliers)\n",
    "\n",
    "# Boxplots\n",
    "if not FAST_MODE:\n",
    "    plot_boxplots(df)\n",
    "\n",
    "# Save Cleaned Data\n",
    "save_processed_data(df)\n"
   ]
  }
 ],
 "metadata": {
  "kernelspec": {
   "display_name": "Python 3",
   "language": "python",
   "name": "python3"
  },
  "language_info": {
   "codemirror_mode": {
    "name": "ipython",
    "version": 3
   },
   "file_extension": ".py",
   "mimetype": "text/x-python",
   "name": "python",
   "nbconvert_exporter": "python",
   "pygments_lexer": "ipython3",
   "version": "3.12.0"
  }
 },
 "nbformat": 4,
 "nbformat_minor": 5
}
